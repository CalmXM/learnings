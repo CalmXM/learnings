{
 "cells": [
  {
   "cell_type": "code",
   "execution_count": 3,
   "metadata": {},
   "outputs": [
    {
     "name": "stdout",
     "output_type": "stream",
     "text": [
      "None\n"
     ]
    }
   ],
   "source": [
    "import numpy as np\n",
    "import pandas as pd\n",
    "\n",
    "# Series的name属性\n",
    "data = pd.Series(data=[1, 2, 3])\n",
    "print(data.name)"
   ]
  },
  {
   "cell_type": "code",
   "execution_count": 10,
   "metadata": {},
   "outputs": [
    {
     "name": "stdout",
     "output_type": "stream",
     "text": [
      "0       cat\n",
      "1       dog\n",
      "2       NaN\n",
      "3    rabbit\n",
      "dtype: object\n",
      "0    kitten\n",
      "1     puppy\n",
      "2       NaN\n",
      "3       NaN\n",
      "dtype: object\n"
     ]
    }
   ],
   "source": [
    "# 方法\n",
    "s = pd.Series(['cat', 'dog', np.nan, 'rabbit'])\n",
    "tmp = s.map({'cat': 'kitten', 'dog': 'puppy'})\n",
    "print(s)\n",
    "print(tmp)"
   ]
  },
  {
   "cell_type": "code",
   "execution_count": null,
   "metadata": {},
   "outputs": [],
   "source": []
  }
 ],
 "metadata": {
  "kernelspec": {
   "display_name": "Python 3",
   "language": "python",
   "name": "python3"
  },
  "language_info": {
   "codemirror_mode": {
    "name": "ipython",
    "version": 3
   },
   "file_extension": ".py",
   "mimetype": "text/x-python",
   "name": "python",
   "nbconvert_exporter": "python",
   "pygments_lexer": "ipython3",
   "version": "3.8.5"
  }
 },
 "nbformat": 4,
 "nbformat_minor": 4
}
